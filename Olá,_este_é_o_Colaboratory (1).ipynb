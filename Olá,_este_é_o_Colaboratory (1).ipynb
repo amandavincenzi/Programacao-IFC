{
  "cells": [
    {
      "cell_type": "code",
      "source": [
        "lado = float(input(\"Insira o valor do lado do cubo\"))\n",
        "area = 6*lado**2\n",
        "volume = lado **3\n",
        "print (\"A área e o volume do seu cubo é, respectivamente:\", area, volume )"
      ],
      "metadata": {
        "colab": {
          "base_uri": "https://localhost:8080/"
        },
        "id": "KWsjtvfbGnE1",
        "outputId": "b2cf3e0a-7b5b-4ed2-c098-11d917a794c5"
      },
      "execution_count": 7,
      "outputs": [
        {
          "output_type": "stream",
          "name": "stdout",
          "text": [
            "Insira o valor do lado do cubo5\n",
            "A área e o volume do seu cubo é, respectivamente: 150.0 125.0\n"
          ]
        }
      ]
    },
    {
      "cell_type": "code",
      "source": [
        "numero1 = int(input(\"Insira um número para ser dividido\"))\n",
        "numero2 = int(input(\"Insira um número para ser o divisor\"))\n",
        "quociente = numero1//numero2\n",
        "resto = numero1%numero2\n",
        "print (\"O quociente e o resto dessa divisão é, respectivamente\", quociente, \"e\", resto)"
      ],
      "metadata": {
        "colab": {
          "base_uri": "https://localhost:8080/"
        },
        "id": "3dkqtUMVHRjt",
        "outputId": "7d3f288f-e909-4a2c-fd59-aa1cfd7c5153"
      },
      "execution_count": 10,
      "outputs": [
        {
          "output_type": "stream",
          "name": "stdout",
          "text": [
            "Insira um número para ser dividido5\n",
            "Insira um número para ser o divisor2\n",
            "O quociente e o resto dessa divisão é, respectivamente 2 e 1\n"
          ]
        }
      ]
    },
    {
      "cell_type": "code",
      "source": [
        "lado = float(input(\"Insira o valor do lado do quadrado\"))\n",
        "area = lado**2\n",
        "perimetro = lado*4\n",
        "print (\"A área e o perimetro do seu quadrado é, respectivamente:\", area, perimetro )"
      ],
      "metadata": {
        "colab": {
          "base_uri": "https://localhost:8080/"
        },
        "id": "BXzmkmzsJCAl",
        "outputId": "b1e29a4a-6cb3-4e7c-90ba-a42f0f1b0698"
      },
      "execution_count": 12,
      "outputs": [
        {
          "output_type": "stream",
          "name": "stdout",
          "text": [
            "Insira o valor do lado do quadrado5\n",
            "A área e o perimetro do seu quadrado é, respectivamente: 25.0 20.0\n"
          ]
        }
      ]
    },
    {
      "cell_type": "code",
      "source": [
        "nome = input(\"Insira seu nome\")\n",
        "filhos = input(\"Insira sua quantidade de filhos\")\n",
        "print (nome, \"tem\", filhos, \"filhos\")"
      ],
      "metadata": {
        "colab": {
          "base_uri": "https://localhost:8080/"
        },
        "id": "U8YzAPjSJc4R",
        "outputId": "7c79752a-84ac-423f-a003-d244c58df22b"
      },
      "execution_count": 13,
      "outputs": [
        {
          "output_type": "stream",
          "name": "stdout",
          "text": [
            "Insira seu nomeamanda\n",
            "Insira sua quantidade de filhos3\n",
            "amanda tem 3 filhos\n"
          ]
        }
      ]
    },
    {
      "cell_type": "code",
      "source": [
        "base = float(input(\"Insira o valor da base do retangulo\"))\n",
        "altura = float(input(\"Insira o valor da altura do retangulo\"))\n",
        "perimetro = 2*(base+altura)\n",
        "area = base*altura\n",
        "print (\"O perimetro e a área do seu retangulo é, respectivamente:\", perimetro, area )"
      ],
      "metadata": {
        "colab": {
          "base_uri": "https://localhost:8080/"
        },
        "id": "WmNEu1KJJ07A",
        "outputId": "b87cf8e7-840b-45ca-b810-5c38622204c3"
      },
      "execution_count": 16,
      "outputs": [
        {
          "output_type": "stream",
          "name": "stdout",
          "text": [
            "Insira o valor da base do retangulo5\n",
            "Insira o valor da altura do retangulo10\n",
            "O perimetro e a área do seu retangulo é, respectivamente: 30.0 50.0\n"
          ]
        }
      ]
    }
  ],
  "metadata": {
    "colab": {
      "collapsed_sections": [],
      "name": "Olá, este é o Colaboratory",
      "provenance": []
    },
    "kernelspec": {
      "display_name": "Python 3",
      "name": "python3"
    }
  },
  "nbformat": 4,
  "nbformat_minor": 0
}